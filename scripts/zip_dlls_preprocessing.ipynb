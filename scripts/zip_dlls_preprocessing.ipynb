{
 "cells": [
  {
   "cell_type": "code",
   "execution_count": 1,
   "metadata": {},
   "outputs": [],
   "source": [
    "import os\n",
    "import zipfile"
   ]
  },
  {
   "cell_type": "code",
   "execution_count": 34,
   "metadata": {},
   "outputs": [],
   "source": [
    "zip_dlls = os.listdir('/home/common_folder/dlls')"
   ]
  },
  {
   "cell_type": "code",
   "execution_count": 4,
   "metadata": {},
   "outputs": [],
   "source": [
    "prefix = '/home/common_folder/dlls/'"
   ]
  },
  {
   "cell_type": "code",
   "execution_count": 36,
   "metadata": {},
   "outputs": [],
   "source": [
    "for zip_dll in zip_dlls:\n",
    "    if zip_dll[-4:] != '.zip':\n",
    "        print(zip_dll)"
   ]
  },
  {
   "cell_type": "code",
   "execution_count": 37,
   "metadata": {},
   "outputs": [
    {
     "name": "stdout",
     "output_type": "stream",
     "text": [
      "15641\n"
     ]
    }
   ],
   "source": [
    "count = 0\n",
    "bad_zip_files = list()\n",
    "for zzip in zip_dlls: \n",
    "    path = prefix + zzip\n",
    "    try:\n",
    "        with zipfile.ZipFile(path) as archive:\n",
    "            dll = ''\n",
    "            for name in archive.namelist():\n",
    "                if name[-4:] == '.txt':\n",
    "                    pass\n",
    "                else:\n",
    "                    archive.extract(name, path=prefix)\n",
    "        count+=1\n",
    "    except zipfile.BadZipFile:\n",
    "        bad_zip_files.append(path)\n",
    "print(count)"
   ]
  },
  {
   "cell_type": "code",
   "execution_count": 32,
   "metadata": {},
   "outputs": [],
   "source": [
    "for bad in bad_zip_files:\n",
    "    os.remove(bad)"
   ]
  },
  {
   "cell_type": "code",
   "execution_count": 2,
   "metadata": {},
   "outputs": [],
   "source": [
    "files = os.listdir('/home/common_folder/dlls')"
   ]
  },
  {
   "cell_type": "code",
   "execution_count": 9,
   "metadata": {},
   "outputs": [],
   "source": [
    "FILE_SIZE = 5120\n",
    "for file in files:\n",
    "    if file[-4:] != '.dll' or os.path.getsize(prefix+file) <= FILE_SIZE:\n",
    "        os.remove(prefix+file)"
   ]
  },
  {
   "cell_type": "code",
   "execution_count": 10,
   "metadata": {},
   "outputs": [],
   "source": [
    "files = os.listdir('/home/common_folder/dlls')"
   ]
  },
  {
   "cell_type": "code",
   "execution_count": null,
   "metadata": {},
   "outputs": [],
   "source": []
  },
  {
   "cell_type": "code",
   "execution_count": null,
   "metadata": {},
   "outputs": [],
   "source": []
  }
 ],
 "metadata": {
  "kernelspec": {
   "display_name": "Python 3",
   "language": "python",
   "name": "python3"
  },
  "language_info": {
   "codemirror_mode": {
    "name": "ipython",
    "version": 3
   },
   "file_extension": ".py",
   "mimetype": "text/x-python",
   "name": "python",
   "nbconvert_exporter": "python",
   "pygments_lexer": "ipython3",
   "version": "3.7.7"
  }
 },
 "nbformat": 4,
 "nbformat_minor": 4
}
