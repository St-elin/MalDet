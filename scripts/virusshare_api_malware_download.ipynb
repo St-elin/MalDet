{
 "cells": [
  {
   "cell_type": "code",
   "execution_count": 1,
   "metadata": {},
   "outputs": [],
   "source": [
    "import requests\n",
    "import json"
   ]
  },
  {
   "cell_type": "code",
   "execution_count": 2,
   "metadata": {},
   "outputs": [],
   "source": [
    "api_key = 'HcOTIcihyxl9Zhhog9bnlV4L716wW8YB'"
   ]
  },
  {
   "cell_type": "code",
   "execution_count": null,
   "metadata": {},
   "outputs": [],
   "source": [
    "hashes_url = 'https://virusshare.com/hashfiles/VirusShare_00360.md5'\n",
    "hashes = requests.get(hashes_url).text"
   ]
  },
  {
   "cell_type": "code",
   "execution_count": 10,
   "metadata": {},
   "outputs": [
    {
     "data": {
      "text/plain": [
       "65537"
      ]
     },
     "execution_count": 10,
     "metadata": {},
     "output_type": "execute_result"
    }
   ],
   "source": [
    "hash_list = str(hashes).split('\\\\n')\n",
    "hash_list = hash_list[6:]"
   ]
  },
  {
   "cell_type": "code",
   "execution_count": 11,
   "metadata": {},
   "outputs": [],
   "source": [
    "from random import sample\n",
    "from random import seed\n",
    "\n",
    "seed(42)\n",
    "hash_list = sample(hash_list,2000)"
   ]
  },
  {
   "cell_type": "code",
   "execution_count": null,
   "metadata": {},
   "outputs": [],
   "source": [
    "for h in hash_list:\n",
    "    report_url = 'https://virusshare.com/apiv2/file?apikey=%s&hash=%s' % (api_key, h)\n",
    "    try:\n",
    "        report = json.loads(requests.get(report_url).content)\n",
    "    except Exception:\n",
    "        continue\n",
    "    if report['virustotal']['positives'] > 30:\n",
    "        dwnld_url = 'https://virusshare.com/apiv2/download?apikey=%s&hash=%s' % (api_key, h)\n",
    "        with open('new_virusshare_samples/archieves/%s.zip' % h, 'wb') as f:\n",
    "            f.write(requests.get(dwnld_url).content)"
   ]
  },
  {
   "cell_type": "code",
   "execution_count": 21,
   "metadata": {},
   "outputs": [],
   "source": [
    "from zipfile import ZipFile"
   ]
  },
  {
   "cell_type": "code",
   "execution_count": 22,
   "metadata": {},
   "outputs": [],
   "source": [
    "import os"
   ]
  },
  {
   "cell_type": "code",
   "execution_count": 25,
   "metadata": {},
   "outputs": [],
   "source": [
    "prefix = '/root/virusshare_valid_data/'\n",
    "mal_list = os.listdir(prefix)"
   ]
  },
  {
   "cell_type": "code",
   "execution_count": 29,
   "metadata": {},
   "outputs": [],
   "source": [
    "for mal in mal_list:\n",
    "    with ZipFile(prefix+mal) as z:\n",
    "        z.extractall(path='/root/vv_RGB/', pwd=b'infected')"
   ]
  },
  {
   "cell_type": "code",
   "execution_count": null,
   "metadata": {},
   "outputs": [],
   "source": []
  }
 ],
 "metadata": {
  "kernelspec": {
   "display_name": "Python 3",
   "language": "python",
   "name": "python3"
  },
  "language_info": {
   "codemirror_mode": {
    "name": "ipython",
    "version": 3
   },
   "file_extension": ".py",
   "mimetype": "text/x-python",
   "name": "python",
   "nbconvert_exporter": "python",
   "pygments_lexer": "ipython3",
   "version": "3.7.7"
  }
 },
 "nbformat": 4,
 "nbformat_minor": 4
}
