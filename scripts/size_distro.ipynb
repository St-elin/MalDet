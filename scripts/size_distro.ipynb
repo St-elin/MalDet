{
 "cells": [
  {
   "cell_type": "code",
   "execution_count": 3,
   "metadata": {},
   "outputs": [
    {
     "name": "stdout",
     "output_type": "stream",
     "text": [
      "Total 1947970431 bytes for 9734 files\n",
      "9734\n",
      "   [5-20) KB  [20-100) KB  [100-400) KB  [400-800) KB  [800-1200) KB  \\\n",
      "0        912         3919          3449           940            464   \n",
      "\n",
      "   >=1200 KB  \n",
      "0         50  \n"
     ]
    },
    {
     "ename": "AttributeError",
     "evalue": "module 'matplotlib.pyplot' has no attribute 'figsize'",
     "output_type": "error",
     "traceback": [
      "\u001b[0;31m---------------------------------------------------------------------------\u001b[0m",
      "\u001b[0;31mAttributeError\u001b[0m                            Traceback (most recent call last)",
      "\u001b[0;32m<ipython-input-3-77eebfdaba15>\u001b[0m in \u001b[0;36m<module>\u001b[0;34m\u001b[0m\n\u001b[1;32m     59\u001b[0m \u001b[0mprint\u001b[0m\u001b[0;34m(\u001b[0m\u001b[0mdf\u001b[0m\u001b[0;34m)\u001b[0m\u001b[0;34m\u001b[0m\u001b[0;34m\u001b[0m\u001b[0m\n\u001b[1;32m     60\u001b[0m \u001b[0mbarplot\u001b[0m\u001b[0;34m(\u001b[0m\u001b[0mdata\u001b[0m\u001b[0;34m=\u001b[0m\u001b[0mdf\u001b[0m\u001b[0;34m)\u001b[0m\u001b[0;34m\u001b[0m\u001b[0;34m\u001b[0m\u001b[0m\n\u001b[0;32m---> 61\u001b[0;31m \u001b[0mplt\u001b[0m\u001b[0;34m.\u001b[0m\u001b[0mfigsize\u001b[0m\u001b[0;34m(\u001b[0m\u001b[0;34m(\u001b[0m\u001b[0;36m13\u001b[0m\u001b[0;34m,\u001b[0m\u001b[0;36m13\u001b[0m\u001b[0;34m)\u001b[0m\u001b[0;34m)\u001b[0m\u001b[0;34m\u001b[0m\u001b[0;34m\u001b[0m\u001b[0m\n\u001b[0m\u001b[1;32m     62\u001b[0m \u001b[0mplt\u001b[0m\u001b[0;34m.\u001b[0m\u001b[0mshow\u001b[0m\u001b[0;34m(\u001b[0m\u001b[0;34m)\u001b[0m\u001b[0;34m\u001b[0m\u001b[0;34m\u001b[0m\u001b[0m\n",
      "\u001b[0;31mAttributeError\u001b[0m: module 'matplotlib.pyplot' has no attribute 'figsize'"
     ]
    },
    {
     "data": {
      "image/png": "[encoded data removed]",
      "text/plain": [
       "<Figure size 432x288 with 1 Axes>"
      ]
     },
     "metadata": {
      "needs_background": "light"
     },
     "output_type": "display_data"
    }
   ],
   "source": [
    "import sys\n",
    "import os\n",
    "from collections import Counter\n",
    "from seaborn import barplot\n",
    "import pandas as pd\n",
    "import matplotlib.pyplot as plt\n",
    "\n",
    "def dodir(path):\n",
    "    global h\n",
    "    for name in os.listdir(path):\n",
    "        p = os.path.join(path, name)\n",
    "        h[os.stat(p).st_size] += 1\n",
    "        if os.path.isdir(p):\n",
    "            dodir(p)\n",
    "        else:\n",
    "            pass\n",
    "\n",
    "\n",
    "def size_counter(arg):\n",
    "    global h\n",
    "    size_dict = {'[5-20) KB': 0, '[20-100) KB': 0, '[100-400) KB': 0, '[400-800) KB': 0,\n",
    "                 '[800-1200) KB': 0, '>=1200 KB': 0}\n",
    "    first, second, third, fourth, fifth, sixth = 0, 0, 0, 0, 0, 0\n",
    "    h = Counter()\n",
    "    counter = []\n",
    "    for dir in arg:\n",
    "        dodir(dir)\n",
    "    s = n = 0\n",
    "    for k, v in sorted(h.items()):\n",
    "        counter.append((k, v))\n",
    "        n += v\n",
    "        s += k * v\n",
    "    for k, v in counter:\n",
    "        if k >= 5000 and k < 20000:\n",
    "            first += v\n",
    "        elif k>= 20000 and k< 100000:\n",
    "            second += v\n",
    "        elif k >= 100000 and k < 400000:\n",
    "            third += v\n",
    "        elif k >= 400000 and k < 800000:\n",
    "            fourth += v\n",
    "        elif k >= 800000 and k < 1200000:\n",
    "            fifth += v\n",
    "        else:\n",
    "            sixth += v\n",
    "    y_list = list(size_dict.keys())\n",
    "    x_list = [first, second, third, fourth, fifth, sixth]\n",
    "    result_dict = dict()\n",
    "\n",
    "    for key, val in zip(y_list, x_list):\n",
    "        result_dict[key] = val\n",
    "    print(\"Total %d bytes for %d files\" % (s, n))\n",
    "    print(sum(result_dict.values()))\n",
    "    return result_dict\n",
    "\n",
    "\n",
    "size_distribution = size_counter([path])\n",
    "df = pd.DataFrame(data=size_distribution, index=[0])\n",
    "print(df)\n",
    "barplot(data=df)\n",
    "plt.show()\n"
   ]
  },
  {
   "cell_type": "code",
   "execution_count": 1,
   "metadata": {},
   "outputs": [],
   "source": [
    "path = '/root/malware_volume/MALWARE'"
   ]
  },
  {
   "cell_type": "code",
   "execution_count": null,
   "metadata": {},
   "outputs": [],
   "source": []
  }
 ],
 "metadata": {
  "kernelspec": {
   "display_name": "Python 3",
   "language": "python",
   "name": "python3"
  },
  "language_info": {
   "codemirror_mode": {
    "name": "ipython",
    "version": 3
   },
   "file_extension": ".py",
   "mimetype": "text/x-python",
   "name": "python",
   "nbconvert_exporter": "python",
   "pygments_lexer": "ipython3",
   "version": "3.7.7"
  }
 },
 "nbformat": 4,
 "nbformat_minor": 4
}
