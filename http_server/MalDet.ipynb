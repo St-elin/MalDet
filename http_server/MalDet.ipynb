{
 "cells": [
  {
   "cell_type": "code",
   "execution_count": 1,
   "metadata": {},
   "outputs": [],
   "source": [
    "import tensorflow as tf"
   ]
  },
  {
   "cell_type": "code",
   "execution_count": 1,
   "metadata": {},
   "outputs": [],
   "source": [
    "from tensorflow.keras.models import load_model"
   ]
  },
  {
   "cell_type": "code",
   "execution_count": 2,
   "metadata": {},
   "outputs": [],
   "source": [
    "model = load_model(\"resnet_malware_detection_tf_2.4.hdf5\")"
   ]
  },
  {
   "cell_type": "code",
   "execution_count": 3,
   "metadata": {},
   "outputs": [
    {
     "data": {
      "text/plain": [
       "'13 February 2021'"
      ]
     },
     "execution_count": 3,
     "metadata": {},
     "output_type": "execute_result"
    }
   ],
   "source": [
    "from datetime import datetime\n",
    "datetime.now().strftime(\"%d %B %Y\")"
   ]
  },
  {
   "cell_type": "markdown",
   "metadata": {},
   "source": [
    "# Preprocessing unit"
   ]
  },
  {
   "cell_type": "code",
   "execution_count": 4,
   "metadata": {},
   "outputs": [],
   "source": [
    "import os, math\n",
    "import argparse\n",
    "from PIL import Image\n",
    "\n",
    "def getBinaryData(filename):\n",
    "    \"\"\"\n",
    "    Extract byte values from binary executable file and store them into list\n",
    "    :param filename: executable file name\n",
    "    :return: byte value list\n",
    "    \"\"\"\n",
    "\n",
    "    binary_values = []\n",
    "\n",
    "    with open(filename, 'rb') as fileobject:\n",
    "\n",
    "        # read file byte by byte\n",
    "        data = fileobject.read(1)\n",
    "\n",
    "        while data != b'':\n",
    "            try:\n",
    "                binary_values.append(ord(data))\n",
    "            except MemoryError:\n",
    "                with open('not_processed_files.txt', 'at') as f:\n",
    "                    f.write(filename+'\\n')\n",
    "                    return False\n",
    "            data = fileobject.read(1)\n",
    "\n",
    "    return binary_values\n",
    "\n",
    "def save_file(filename, data, size, image_type):\n",
    "    try:\n",
    "        image = Image.new(image_type, size)\n",
    "        image.putdata(data)\n",
    "\n",
    "        # setup output filename\n",
    "        dirname = os.path.dirname(filename)\n",
    "        name, _ = os.path.splitext(filename)\n",
    "        name = os.path.basename(name)\n",
    "        imagename = dirname + os.sep + image_type + os.sep + name + '_'+image_type+ '.png'\n",
    "        os.makedirs(os.path.dirname(imagename), exist_ok=True)\n",
    "\n",
    "        image.save(imagename)\n",
    "        return imagename\n",
    "    except Exception as err:\n",
    "        print(err)\n",
    "        \n",
    "def get_size(data_length, width=None):\n",
    "    # source Malware images: visualization and automatic classification by L. Nataraj\n",
    "    # url : http://dl.acm.org/citation.cfm?id=2016908\n",
    "\n",
    "    if width is None: # with don't specified any with value\n",
    "\n",
    "        size = data_length\n",
    "\n",
    "        if (size < 10240):\n",
    "            width = 32\n",
    "        elif (10240 <= size <= 10240 * 3):\n",
    "            width = 64\n",
    "        elif (10240 * 3 <= size <= 10240 * 6):\n",
    "            width = 128\n",
    "        elif (10240 * 6 <= size <= 10240 * 10):\n",
    "            width = 256\n",
    "        elif (10240 * 10 <= size <= 10240 * 20):\n",
    "            width = 384\n",
    "        elif (10240 * 20 <= size <= 10240 * 50):\n",
    "            width = 512\n",
    "        elif (10240 * 50 <= size <= 10240 * 100):\n",
    "            width = 768\n",
    "        else:\n",
    "            width = 1024\n",
    "\n",
    "        height = int(size / width) + 1\n",
    "\n",
    "    else:\n",
    "        width  = int(math.sqrt(data_length)) + 1\n",
    "        height = width\n",
    "\n",
    "    return (width, height)\n",
    "\n",
    "\n",
    "def createRGBImage(filename, width=None):\n",
    "    \"\"\"\n",
    "    Create RGB image from 24 bit binary data 8bit Red, 8 bit Green, 8bit Blue\n",
    "    :param filename: image filename\n",
    "    \"\"\"\n",
    "    index = 0\n",
    "    rgb_data = []\n",
    "\n",
    "    # Read binary file\n",
    "    binary_data = getBinaryData(filename)\n",
    "    if not binary_data:\n",
    "        return False\n",
    "    # Create R,G,B pixels\n",
    "    while (index + 3) < len(binary_data):\n",
    "        R = binary_data[index]\n",
    "        G = binary_data[index+1]\n",
    "        B = binary_data[index+2]\n",
    "        index += 3\n",
    "        rgb_data.append((R, G, B))\n",
    "\n",
    "    size = get_size(len(rgb_data), width)\n",
    "    imagename = save_file(filename, rgb_data, size, 'RGB')\n",
    "    return imagename\n"
   ]
  },
  {
   "cell_type": "markdown",
   "metadata": {},
   "source": [
    "# Prediction Unit"
   ]
  },
  {
   "cell_type": "code",
   "execution_count": 5,
   "metadata": {},
   "outputs": [],
   "source": [
    "from tensorflow.keras.preprocessing import image\n",
    "from tensorflow.keras.applications.resnet50 import preprocess_input\n",
    "import numpy as np\n",
    "def predict_image(model, img_path):\n",
    "    # Read the image and resize it\n",
    "    img_width, img_height = 224, 224\n",
    "    img = image.load_img(img_path, target_size=(img_height, img_width))\n",
    "    # Convert it to a Numpy array with target shape.\n",
    "    x = image.img_to_array(img)\n",
    "    x = np.expand_dims(x, axis=0)\n",
    "    x = preprocess_input(x)\n",
    "    # Reshape\n",
    "    result = model.predict(x)\n",
    "    if result > 0.5:\n",
    "        file_type = \"malware\"\n",
    "    else:\n",
    "        file_type = \"benign\"\n",
    "        result = 1 - result\n",
    "    return file_type, float(result)"
   ]
  },
  {
   "cell_type": "code",
   "execution_count": 42,
   "metadata": {},
   "outputs": [],
   "source": [
    "filename = createRGBImage('files/save_and_load.ipynb')"
   ]
  },
  {
   "cell_type": "code",
   "execution_count": 43,
   "metadata": {},
   "outputs": [
    {
     "data": {
      "text/plain": [
       "<matplotlib.image.AxesImage at 0x7f2f590c6d30>"
      ]
     },
     "execution_count": 43,
     "metadata": {},
     "output_type": "execute_result"
    },
    {
     "data": {
      "image/png": "[encoded data removed]",
      "text/plain": [
       "<Figure size 432x288 with 1 Axes>"
      ]
     },
     "metadata": {
      "needs_background": "light"
     },
     "output_type": "display_data"
    }
   ],
   "source": [
    "import matplotlib.pyplot as plt\n",
    "im = image.load_img(filename, target_size=(224,224))\n",
    "plt.imshow(im)"
   ]
  },
  {
   "cell_type": "code",
   "execution_count": 44,
   "metadata": {},
   "outputs": [
    {
     "data": {
      "text/plain": [
       "('malware', 0.6496413350105286)"
      ]
     },
     "execution_count": 44,
     "metadata": {},
     "output_type": "execute_result"
    }
   ],
   "source": [
    "predict_image(model, filename)"
   ]
  },
  {
   "cell_type": "markdown",
   "metadata": {},
   "source": [
    "# Database Unit"
   ]
  },
  {
   "cell_type": "code",
   "execution_count": 9,
   "metadata": {},
   "outputs": [
    {
     "name": "stdout",
     "output_type": "stream",
     "text": [
      "{\"ids\": [1, 2, 3, 4, 5, 6], \"names\": [\"save_and_load.ipynb\", \"classification-checkpoint.ipynb\", \"text_classification_with_hub.ipynb\", \"regression.ipynb\", \"overfit_and_underfit.ipynb\", \"text_classification.ipynb\"], \"types\": [\"malware\", \"malware\", \"malware\", \"malware\", \"malware\", \"malware\"], \"probabilities\": [0.649, 0.799, 0.909, 0.92, 0.6, 0.863], \"sha512\": [\"6446f48e54f5c764fca8bb437cdd434d66608955acf6e7b877fc66b30ff8a4be2dc0b0c4958dffb2d7285d572316544b5f50e4f9d2c989f4e7e6e1ad0b0c4415\", \"0427aaa10ec4aead016ceafaf0407ae0e866b79dcfee54e8a0b1ed2db23228966dd93a8074f3f7dfe8a8532e8a2cd97108ffa617f873e1f9140bb5029de5210c\", \"b7d7a501b0c23d635e126bb4d6ab8e6cdb19f4b07d34f4642dda3bfa8d687f42b7597d5aec2988b7e696b0df555807d7a3053e26872c53bf5bd8fdcfe7c6b00e\", \"3497d82787865a1cf2232e9fcc8cecec12016163594c8621ebcf69a1f30f1d2282a2b6b6fc027d1e18c5b486c73ff09b61c2884924d6baa693494729bc21fffd\", \"e8b545fa4677dd052dc903db75420a9eaa3720f4daf47fe2151b8d71969a9649ddd358442f3aa186603c20bcae67cfcdee9e7b4c66d167f0ebd93bb34fd71c6d\", \"e0eee44eb04cbfe9b5848cbf7a33d2f4c67eb4792928e7d9a637a693666897485c5524aa50747dfc2012a916686f5e3677ea78fbf2d06750898a7643d61486e2\"], \"dates\": [\"11 February 2021\", \"11 February 2021\", \"11 February 2021\", \"11 February 2021\", \"11 February 2021\", \"11 February 2021\"], \"ips\": [\"172.17.0.2\", \"172.17.0.2\", \"172.17.0.2\", \"172.17.0.2\", \"172.17.0.2\", \"172.17.0.2\"]}\n"
     ]
    }
   ],
   "source": [
    "import sqlite3\n",
    "\n",
    "import json\n",
    "\n",
    "conn = sqlite3.connect(\"MalDet.db\")\n",
    "\n",
    "c = conn.cursor()\n",
    "\n",
    "# sha = '7f390c85bbfa1de6390618447e4e28d8ff47260118ab4ce31557fdf6e0ee0282b4bb4ab0fbfdcff65955e21de46681b4a634f9cf77e48609d027a296505ec56a'\n",
    "\n",
    "# c.execute('''CREATE TABLE MalDet_List\n",
    "# ([generated_id] INTEGER PRIMARY KEY,\n",
    "# [filename] text, [filetype] text,\n",
    "# [type_probability] real, [sha_512] text, \n",
    "# [analysis_date] text, [analyzer_ip] text)''')\n",
    "\n",
    "# insert_query = f\"\"\"INSERT INTO MalDet_List\n",
    "\n",
    "#                           (filename, filetype, type_probability, \n",
    "\n",
    "#                           sha_512, analysis_date) \n",
    "\n",
    "#                            VALUES \n",
    "\n",
    "#                           (?,?,?,?,?)\"\"\"\n",
    "\n",
    "# search_query = \"\"\"SELECT sha_512 FROM MalDet_List WHERE sha_512=?\"\"\"\n",
    "\n",
    "# data_tuple = ('0404b8957c27de20bebb133d3cf0a28e30700f667f7c2f3fe7fde7e726b691cd',\n",
    "\n",
    "#                           'malware', 0.9144543409347534,\n",
    "\n",
    "#                           '7f390c85bbfa1de6390618447e4e28d8ff47260118ab4ce31557fdf6e0ee0282b4bb4ab0fbfdcff65955e21de46681b4a634f9cf77e48609d027a296505ec56a',\n",
    "\n",
    "#                           datetime.now().strftime(\"%d %B %Y\"))\n",
    "\n",
    "# c.execute(insert_query, data_tuple)\n",
    "\n",
    "# c.execute(search_query, (sha,))\n",
    "\n",
    "# c.execute(\"\"\"SELECT * from MalDet_List\n",
    "\n",
    "#     where sha_512=?\"\"\", (sha,))\n",
    "\n",
    "# c.execute(\"\"\"SELECT * from MalDet_List\"\"\")\n",
    "\n",
    "# c.execute(\"\"\"DELETE from MalDet_List where analysis_date=?\"\"\",\n",
    "#           ('11 February 2021',))\n",
    "conn.commit()\n",
    "c.execute(\"\"\"SELECT * from MalDet_List\"\"\")\n",
    "rows = c.fetchall()\n",
    "info = dict()\n",
    "ids = []\n",
    "names = []\n",
    "types = []\n",
    "probabilities = []\n",
    "sha512 = []\n",
    "dates = []\n",
    "ips = []\n",
    "for row in rows:\n",
    "    ids.append(row[0])\n",
    "    names.append(row[1])\n",
    "    types.append(row[2])\n",
    "    probabilities.append(row[3])\n",
    "    sha512.append(row[4])\n",
    "    dates.append(row[5])\n",
    "    ips.append(row[6])\n",
    "    \n",
    "info['ids'] = ids\n",
    "info['names'] = names\n",
    "info['types'] = types\n",
    "info['probabilities'] = probabilities\n",
    "info['sha512'] = sha512\n",
    "info['dates'] = dates\n",
    "info['ips'] = ips\n",
    "print(json.dumps(info))\n",
    "conn.commit()\n",
    "\n",
    "conn.close()"
   ]
  },
  {
   "cell_type": "markdown",
   "metadata": {},
   "source": [
    "# Server Unit"
   ]
  },
  {
   "cell_type": "code",
   "execution_count": 12,
   "metadata": {
    "scrolled": false
   },
   "outputs": [
    {
     "name": "stdout",
     "output_type": "stream",
     "text": [
      " * Serving Flask app \"__main__\" (lazy loading)\n",
      " * Environment: production\n",
      "\u001b[31m   WARNING: This is a development server. Do not use it in a production deployment.\u001b[0m\n",
      "\u001b[2m   Use a production WSGI server instead.\u001b[0m\n",
      " * Debug mode: on\n"
     ]
    },
    {
     "name": "stderr",
     "output_type": "stream",
     "text": [
      " * Running on http://0.0.0.0:8003/ (Press CTRL+C to quit)\n",
      "172.17.0.1 - - [13/Feb/2021 09:58:05] \"\u001b[37mGET / HTTP/1.1\u001b[0m\" 200 -\n"
     ]
    },
    {
     "name": "stdout",
     "output_type": "stream",
     "text": [
      "new file, processing...\n"
     ]
    },
    {
     "name": "stderr",
     "output_type": "stream",
     "text": [
      "172.17.0.1 - - [13/Feb/2021 09:58:07] \"\u001b[37mPOST /files/0404b8957c27de20bebb133d3cf0a28e30700f667f7c2f3fe7fde7e726b691cd/1 HTTP/1.1\u001b[0m\" 200 -\n",
      "172.17.0.1 - - [13/Feb/2021 09:58:27] \"\u001b[37mGET / HTTP/1.1\u001b[0m\" 200 -\n",
      "172.17.0.1 - - [13/Feb/2021 09:58:27] \"\u001b[37mPOST /files/0404b8957c27de20bebb133d3cf0a28e30700f667f7c2f3fe7fde7e726b691cd/1 HTTP/1.1\u001b[0m\" 200 -\n"
     ]
    },
    {
     "name": "stdout",
     "output_type": "stream",
     "text": [
      "existing file, searching...\n"
     ]
    },
    {
     "name": "stderr",
     "output_type": "stream",
     "text": [
      "172.17.0.1 - - [13/Feb/2021 10:05:30] \"\u001b[37mGET / HTTP/1.1\u001b[0m\" 200 -\n",
      "172.17.0.1 - - [13/Feb/2021 10:05:30] \"\u001b[37mPOST /files/0404b8957c27de20bebb133d3cf0a28e30700f667f7c2f3fe7fde7e726b691cd/0 HTTP/1.1\u001b[0m\" 200 -\n"
     ]
    },
    {
     "name": "stdout",
     "output_type": "stream",
     "text": [
      "existing file, searching...\n"
     ]
    },
    {
     "name": "stderr",
     "output_type": "stream",
     "text": [
      "172.17.0.1 - - [13/Feb/2021 10:07:00] \"\u001b[37mGET / HTTP/1.1\u001b[0m\" 200 -\n"
     ]
    },
    {
     "name": "stdout",
     "output_type": "stream",
     "text": [
      "new file, processing...\n"
     ]
    },
    {
     "name": "stderr",
     "output_type": "stream",
     "text": [
      "172.17.0.1 - - [13/Feb/2021 10:07:00] \"\u001b[37mPOST /files/Install-Linux-tar.txt/1 HTTP/1.1\u001b[0m\" 200 -\n",
      "172.17.0.1 - - [13/Feb/2021 10:15:24] \"\u001b[37mGET / HTTP/1.1\u001b[0m\" 200 -\n",
      "172.17.0.1 - - [13/Feb/2021 10:15:24] \"\u001b[37mGET /search/123321 HTTP/1.1\u001b[0m\" 200 -\n"
     ]
    }
   ],
   "source": [
    "from flask import Flask, request, abort, jsonify, send_from_directory\n",
    "from hashlib import sha512\n",
    "import re\n",
    "import base64\n",
    "\n",
    "UPLOAD_DIRECTORY = \"./files\"\n",
    "\n",
    "if not os.path.exists(UPLOAD_DIRECTORY):\n",
    "    os.makedirs(UPLOAD_DIRECTORY)\n",
    "\n",
    "def analysis(filename=0,data=0, mode=0, mfl=False,ip=''):\n",
    "    FLAG=False\n",
    "    conn = sqlite3.connect(\"MalDet.db\")\n",
    "    c = conn.cursor()\n",
    "    if filename and not data:\n",
    "        with open(os.path.join(UPLOAD_DIRECTORY,filename), 'rb') as f:\n",
    "            data = f.read()\n",
    "    sha = sha512(data).hexdigest()\n",
    "    c.execute(\"\"\"SELECT sha_512 from MalDet_List\n",
    "    where sha_512=?\"\"\", (sha,))\n",
    "    rows = c.fetchall()\n",
    "    if rows:\n",
    "        FLAG=True\n",
    "    if FLAG:\n",
    "        print('existing file, searching...')\n",
    "        c.execute(\"\"\"SELECT * from MalDet_List\n",
    "    where sha_512=?\"\"\", (sha,))\n",
    "        rows = c.fetchall()\n",
    "        conn.commit()\n",
    "        conn.close()\n",
    "        if mode == '2':\n",
    "            return unit_pack(rows, mode)\n",
    "        else:\n",
    "            return unit_pack(rows, mode)\n",
    "    else:\n",
    "        print(\"new file, processing...\")\n",
    "        if mfl:\n",
    "            filepath = filename\n",
    "        else:\n",
    "            filepath = os.path.join(UPLOAD_DIRECTORY, filename)\n",
    "            with open(filepath, \"wb\") as fp:\n",
    "                fp.write(request.data)\n",
    "        picture = createRGBImage(filepath)\n",
    "        result = predict_image(model, picture)\n",
    "        if '/' in filename:\n",
    "            filename = filename.split('/')[-1]\n",
    "        data_tuple = (filename,result[0],\n",
    "                      int(result[1]*1000)/1000,sha,\n",
    "                      datetime.now().strftime(\"%d %B %Y\"), ip)\n",
    "        query = \"\"\"INSERT INTO MalDet_List\n",
    "                       (filename, filetype, type_probability, \n",
    "                       sha_512, analysis_date, analyzer_ip) \n",
    "                        VALUES \n",
    "                       (?,?,?,?,?,?)\"\"\"\n",
    "        c.execute(query, data_tuple)\n",
    "        os.remove(filepath)\n",
    "        os.remove(picture)\n",
    "        conn.commit()\n",
    "        conn.close()\n",
    "        if mode == '2':\n",
    "            return result\n",
    "        elif mode == '1':\n",
    "            info = dict()\n",
    "            info['name'] = data_tuple[0]\n",
    "            info['type'] = data_tuple[1]\n",
    "            info['probability'] = int(data_tuple[2]*1000)/1000\n",
    "            info['sha512'] = data_tuple[3]\n",
    "            info['date'] = data_tuple[4]\n",
    "            info['source_ip'] = data_tuple[5]\n",
    "            return info\n",
    "        elif mode == '0':\n",
    "            info = dict()\n",
    "            info['name'] = data_tuple[0]\n",
    "            info['type'] = data_tuple[1]\n",
    "            return info\n",
    "\n",
    "def multiple_pack(rows: list, mode: int):\n",
    "    info = dict()\n",
    "    names = []\n",
    "    types = []\n",
    "    probabilities = []\n",
    "    sha512 = []\n",
    "    dates = []\n",
    "    ips = []\n",
    "    for row in rows:\n",
    "        names.append(row[1])\n",
    "        types.append(row[2])\n",
    "        probabilities.append(row[3])\n",
    "        sha512.append(row[4])\n",
    "        dates.append(row[5])\n",
    "        ips.append(row[6])\n",
    "    if mode:\n",
    "        info['names'] = names\n",
    "        info['types'] = types\n",
    "        info['probabilities'] = probabilities\n",
    "        info['sha512'] = sha512\n",
    "        info['dates'] = dates\n",
    "        info['source_ips'] = ips\n",
    "    else:\n",
    "        info['names'] = names\n",
    "        info['types'] = types\n",
    "    return info\n",
    "\n",
    "def unit_pack(rows: list, mode: int):\n",
    "    info = dict()\n",
    "    name = rows[0][1]\n",
    "    type_ = rows[0][2]\n",
    "    probability = rows[0][3]\n",
    "    sha512 = rows[0][4]\n",
    "    date = rows[0][5]\n",
    "    ip = rows[0][6]\n",
    "    if mode == '1':\n",
    "        info['name'] = name\n",
    "        info['type'] = type_\n",
    "        info['probability'] = probability\n",
    "        info['sha512'] = sha512\n",
    "        info['date'] = date\n",
    "        info['source_ip'] = ip\n",
    "    else:\n",
    "        info['name'] = name\n",
    "        info['type'] = type_\n",
    "    return info\n",
    "\n",
    "api = Flask(__name__)\n",
    "\n",
    "\n",
    "@api.route(\"/\")\n",
    "def check_response():\n",
    "    ip = request.headers['IP']+' '\n",
    "    date = datetime.now().strftime('%H:%M:%S %d/%b/%y')\n",
    "    cookie = base64.encodebytes((ip+date).encode()).decode().strip()\n",
    "    return jsonify(cookie)\n",
    "\n",
    "@api.route(\"/files\")\n",
    "def list_files():\n",
    "    conn = sqlite3.connect(\"MalDet.db\")\n",
    "    c = conn.cursor()\n",
    "    c.execute(\"\"\"SELECT filename,analysis_date from MalDet_List\"\"\")\n",
    "    rows = c.fetchall()\n",
    "    return jsonify(rows)\n",
    "\n",
    "@api.route(\"/search/<h>\")\n",
    "def search(h):\n",
    "    conn = sqlite3.connect(\"MalDet.db\")\n",
    "    c = conn.cursor()\n",
    "    rows = []\n",
    "    missing_message = ''\n",
    "    if request.headers['search_ip']:\n",
    "        if re.match('^(?:(?:25[0-5]|2[0-4][0-9]|[01]?[0-9][0-9]?)\\.){3}(?:25[0-5]|2[0-4][0-9]|[01]?[0-9][0-9]?)$', request.headers['search_ip']):\n",
    "            c.execute(\"\"\"SELECT * from MalDet_List where analyzer_ip=?\"\"\", (request.headers['search_ip'],))\n",
    "            rows = c.fetchall()\n",
    "            missing_message = 'such ip address has not analyzed any file yet'\n",
    "        else:\n",
    "            return jsonify('invalid ip address')\n",
    "    elif request.headers['date']:\n",
    "        if re.match('^(0?[1-9]|[12][0-9]|3[01])[\\/\\-](0?[1-9]|1[012])[\\/\\-]\\d{4}$', request.headers['date']):\n",
    "            date_date = datetime.strptime(request.headers['date'], '%d/%m/%Y')\n",
    "            date = datetime.strftime(date_date, '%d %B %Y')\n",
    "            c.execute(\"\"\"SELECT * from MalDet_List where analysis_date=?\"\"\", (date,))\n",
    "            rows = c.fetchall()\n",
    "            missing_message = 'the system was chilling this day'\n",
    "        else:\n",
    "            return jsonify('invalid date format')\n",
    "    else:\n",
    "        if re.match('^[a-f0-9]{128}$', h):\n",
    "            c.execute(\"\"\"SELECT * from MalDet_List where sha_512=?\"\"\", (h,))\n",
    "            rows = c.fetchall()\n",
    "            missing_message = 'this file has not been analyzed yet'\n",
    "        else:\n",
    "            return jsonify('invalid hash value')\n",
    "    if rows:\n",
    "        return jsonify(multiple_pack(rows,mode='1'))\n",
    "    else:\n",
    "        return jsonify(missing_message)\n",
    "\n",
    "# @api.route(\"/files/<path:path>\")\n",
    "# def get_file(path):\n",
    "#     \"\"\"Download a file.\"\"\"\n",
    "#     return send_from_directory(UPLOAD_DIRECTORY, path, as_attachment=True)\n",
    "\n",
    "@api.route(\"/files/analysis/<mode>\", methods=[\"GET\"])\n",
    "def analysis_from_upload_dir(mode, upload_dir_path=UPLOAD_DIRECTORY):\n",
    "    analyzed_files = dict()\n",
    "    files = os.listdir(upload_dir_path)\n",
    "    for file in files.copy():\n",
    "        if os.path.isdir(os.path.join(upload_dir_path,file)):\n",
    "            files.remove(file)\n",
    "    for file in files:\n",
    "        print(os.path.join(upload_dir_path,file))\n",
    "        analyzed_files[file] = analysis(filename=os.path.join(upload_dir_path,file),\n",
    "                                        mode=mode, mfl=True, ip=request.headers['IP'])\n",
    "    return jsonify(analyzed_files)\n",
    "        \n",
    "        \n",
    "\n",
    "@api.route(\"/files/<filename>/<mode>\", methods=[\"POST\"])\n",
    "def post_file(filename, mode):\n",
    "    \"\"\"Upload a file.\"\"\"\n",
    "    if mode == '3':\n",
    "        filepath = os.path.join(UPLOAD_DIRECTORY, filename)\n",
    "        with open(filepath, \"wb\") as fp:\n",
    "            fp.write(request.data)\n",
    "            return jsonify(f'file {filename} uploaded')\n",
    "    info = analysis(filename=filename, data=request.data, \n",
    "                    mode=mode, ip=request.headers['IP'])\n",
    "    return jsonify(info)\n",
    "\n",
    "if __name__ == \"__main__\":\n",
    "    api.run(host='0.0.0.0',debug=True, port=8003,use_reloader=False)"
   ]
  },
  {
   "cell_type": "code",
   "execution_count": null,
   "metadata": {},
   "outputs": [],
   "source": []
  }
 ],
 "metadata": {
  "kernelspec": {
   "display_name": "Python 3",
   "language": "python",
   "name": "python3"
  },
  "language_info": {
   "codemirror_mode": {
    "name": "ipython",
    "version": 3
   },
   "file_extension": ".py",
   "mimetype": "text/x-python",
   "name": "python",
   "nbconvert_exporter": "python",
   "pygments_lexer": "ipython3",
   "version": "3.6.9"
  }
 },
 "nbformat": 4,
 "nbformat_minor": 2
}
